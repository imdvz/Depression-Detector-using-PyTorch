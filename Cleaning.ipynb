{
 "cells": [
  {
   "cell_type": "markdown",
   "metadata": {
    "id": "IYQrvmMJ6EI4"
   },
   "source": [
    "# Cleaning Depression Related Data"
   ]
  },
  {
   "cell_type": "markdown",
   "metadata": {
    "id": "ZAlgbP1U3iS1"
   },
   "source": [
    "## Importing Extracted Data "
   ]
  },
  {
   "cell_type": "code",
   "execution_count": 1,
   "metadata": {
    "id": "fber8zhx3enx"
   },
   "outputs": [],
   "source": [
    "import pandas as pd\n",
    "import re"
   ]
  },
  {
   "cell_type": "code",
   "execution_count": 2,
   "metadata": {
    "id": "KVDo64IUooEc",
    "scrolled": true
   },
   "outputs": [],
   "source": [
    "df_1 = pd.read_csv(\"dep_sadness.csv\")\n",
    "df_2 = pd.read_csv(\"dep_depressed.csv\")\n",
    "df_3 = pd.read_csv(\"dep_loneliness.csv\")\n",
    "df_4 = pd.read_csv(\"dep_depression.csv\")\n",
    "\n",
    "\n",
    "# Combining Datasets.\n",
    "df = pd.concat([df_1, df_2, df_3, df_4], ignore_index=True, axis='rows')"
   ]
  },
  {
   "cell_type": "code",
   "execution_count": 3,
   "metadata": {
    "id": "SGniHz1zpnYV"
   },
   "outputs": [
    {
     "name": "stdout",
     "output_type": "stream",
     "text": [
      "Shape: (16004, 8)\n",
      "Unique tweets: 15717\n"
     ]
    }
   ],
   "source": [
    "print(\"Shape:\",df.shape)\n",
    "\n",
    "print(\"Unique tweets:\", len(df['Tweet Id'].value_counts()))"
   ]
  },
  {
   "cell_type": "code",
   "execution_count": 4,
   "metadata": {
    "id": "aEHisS5QqG7R"
   },
   "outputs": [
    {
     "name": "stdout",
     "output_type": "stream",
     "text": [
      "Shape: (15717, 8)\n"
     ]
    }
   ],
   "source": [
    "# Dropping duplicate tweets using \"ID\" column.\n",
    "\n",
    "df = df.drop_duplicates(subset =[\"Tweet Id\"])\n",
    "\n",
    "print(\"Shape:\",df.shape)"
   ]
  },
  {
   "cell_type": "code",
   "execution_count": 5,
   "metadata": {
    "id": "_0XzICRBqqWF",
    "scrolled": true
   },
   "outputs": [
    {
     "data": {
      "text/html": [
       "<div>\n",
       "<style scoped>\n",
       "    .dataframe tbody tr th:only-of-type {\n",
       "        vertical-align: middle;\n",
       "    }\n",
       "\n",
       "    .dataframe tbody tr th {\n",
       "        vertical-align: top;\n",
       "    }\n",
       "\n",
       "    .dataframe thead th {\n",
       "        text-align: right;\n",
       "    }\n",
       "</style>\n",
       "<table border=\"1\" class=\"dataframe\">\n",
       "  <thead>\n",
       "    <tr style=\"text-align: right;\">\n",
       "      <th></th>\n",
       "      <th>Unnamed: 0</th>\n",
       "      <th>Datetime</th>\n",
       "      <th>Tweet Id</th>\n",
       "      <th>Username</th>\n",
       "      <th>Text</th>\n",
       "      <th>URL</th>\n",
       "      <th>Mention</th>\n",
       "      <th>Hashtags</th>\n",
       "    </tr>\n",
       "  </thead>\n",
       "  <tbody>\n",
       "    <tr>\n",
       "      <th>0</th>\n",
       "      <td>0</td>\n",
       "      <td>2020-12-30 23:05:25+00:00</td>\n",
       "      <td>1344419347524165638</td>\n",
       "      <td>seesawlesbian</td>\n",
       "      <td>“bts is a trend” #bts #btsarmy #btsbts #hashtag #kpop #kpophashtag #btsisatrendhashtag #bighitim...</td>\n",
       "      <td>https://twitter.com/seesawlesbian/status/1344419347524165638</td>\n",
       "      <td>NaN</td>\n",
       "      <td>['bts', 'btsarmy', 'btsbts', 'hashtag', 'kpop', 'kpophashtag', 'btsisatrendhashtag', 'bighitimgo...</td>\n",
       "    </tr>\n",
       "    <tr>\n",
       "      <th>1</th>\n",
       "      <td>1</td>\n",
       "      <td>2020-12-30 22:51:23+00:00</td>\n",
       "      <td>1344415815249113090</td>\n",
       "      <td>That_Guy_Crash</td>\n",
       "      <td>What it feels like to lose in Mario Kart #mariokart #mariokart8 #loser #lost #sad #sadness #twit...</td>\n",
       "      <td>https://twitter.com/That_Guy_Crash/status/1344415815249113090</td>\n",
       "      <td>NaN</td>\n",
       "      <td>['mariokart', 'mariokart8', 'loser', 'lost', 'sad', 'sadness', 'twitch', 'twitchtv', 'twitchclip...</td>\n",
       "    </tr>\n",
       "    <tr>\n",
       "      <th>2</th>\n",
       "      <td>2</td>\n",
       "      <td>2020-12-30 22:48:18+00:00</td>\n",
       "      <td>1344415040653422593</td>\n",
       "      <td>MIDAGEDRUNNER</td>\n",
       "      <td>@Lunker58Steele #sadness</td>\n",
       "      <td>https://twitter.com/MIDAGEDRUNNER/status/1344415040653422593</td>\n",
       "      <td>[User(username='Lunker58Steele', id=707050254, displayname='William or Mike', description=None, ...</td>\n",
       "      <td>['sadness']</td>\n",
       "    </tr>\n",
       "    <tr>\n",
       "      <th>3</th>\n",
       "      <td>3</td>\n",
       "      <td>2020-12-30 22:39:13+00:00</td>\n",
       "      <td>1344412753314902022</td>\n",
       "      <td>MBCharacter</td>\n",
       "      <td>https://t.co/X0T941sg7a\\n#help #covid_19 #isolation #sadness #grief #mbc #hope #difference #yout...</td>\n",
       "      <td>https://twitter.com/MBCharacter/status/1344412753314902022</td>\n",
       "      <td>NaN</td>\n",
       "      <td>['help', 'covid_19', 'isolation', 'sadness', 'grief', 'mbc', 'hope', 'difference', 'youth', 'sel...</td>\n",
       "    </tr>\n",
       "    <tr>\n",
       "      <th>4</th>\n",
       "      <td>4</td>\n",
       "      <td>2020-12-30 21:58:28+00:00</td>\n",
       "      <td>1344402501307564032</td>\n",
       "      <td>rebeccajchaney</td>\n",
       "      <td>Like everyone, I have so many memories from this year. One stands out for me: the loss of a dear...</td>\n",
       "      <td>https://twitter.com/rebeccajchaney/status/1344402501307564032</td>\n",
       "      <td>[User(username='rebeccajchaney', id=2842089636, displayname='Rebecca Chaney', description=None, ...</td>\n",
       "      <td>['memory', 'reflection', 'Reflection2020', 'cancer', 'sadness', 'love', 'hope', 'WritingCommunity']</td>\n",
       "    </tr>\n",
       "  </tbody>\n",
       "</table>\n",
       "</div>"
      ],
      "text/plain": [
       "   Unnamed: 0                   Datetime             Tweet Id        Username  \\\n",
       "0           0  2020-12-30 23:05:25+00:00  1344419347524165638   seesawlesbian   \n",
       "1           1  2020-12-30 22:51:23+00:00  1344415815249113090  That_Guy_Crash   \n",
       "2           2  2020-12-30 22:48:18+00:00  1344415040653422593   MIDAGEDRUNNER   \n",
       "3           3  2020-12-30 22:39:13+00:00  1344412753314902022     MBCharacter   \n",
       "4           4  2020-12-30 21:58:28+00:00  1344402501307564032  rebeccajchaney   \n",
       "\n",
       "                                                                                                  Text  \\\n",
       "0  “bts is a trend” #bts #btsarmy #btsbts #hashtag #kpop #kpophashtag #btsisatrendhashtag #bighitim...   \n",
       "1  What it feels like to lose in Mario Kart #mariokart #mariokart8 #loser #lost #sad #sadness #twit...   \n",
       "2                                                                             @Lunker58Steele #sadness   \n",
       "3  https://t.co/X0T941sg7a\\n#help #covid_19 #isolation #sadness #grief #mbc #hope #difference #yout...   \n",
       "4  Like everyone, I have so many memories from this year. One stands out for me: the loss of a dear...   \n",
       "\n",
       "                                                             URL  \\\n",
       "0   https://twitter.com/seesawlesbian/status/1344419347524165638   \n",
       "1  https://twitter.com/That_Guy_Crash/status/1344415815249113090   \n",
       "2   https://twitter.com/MIDAGEDRUNNER/status/1344415040653422593   \n",
       "3     https://twitter.com/MBCharacter/status/1344412753314902022   \n",
       "4  https://twitter.com/rebeccajchaney/status/1344402501307564032   \n",
       "\n",
       "                                                                                               Mention  \\\n",
       "0                                                                                                  NaN   \n",
       "1                                                                                                  NaN   \n",
       "2  [User(username='Lunker58Steele', id=707050254, displayname='William or Mike', description=None, ...   \n",
       "3                                                                                                  NaN   \n",
       "4  [User(username='rebeccajchaney', id=2842089636, displayname='Rebecca Chaney', description=None, ...   \n",
       "\n",
       "                                                                                              Hashtags  \n",
       "0  ['bts', 'btsarmy', 'btsbts', 'hashtag', 'kpop', 'kpophashtag', 'btsisatrendhashtag', 'bighitimgo...  \n",
       "1  ['mariokart', 'mariokart8', 'loser', 'lost', 'sad', 'sadness', 'twitch', 'twitchtv', 'twitchclip...  \n",
       "2                                                                                          ['sadness']  \n",
       "3  ['help', 'covid_19', 'isolation', 'sadness', 'grief', 'mbc', 'hope', 'difference', 'youth', 'sel...  \n",
       "4  ['memory', 'reflection', 'Reflection2020', 'cancer', 'sadness', 'love', 'hope', 'WritingCommunity']  "
      ]
     },
     "execution_count": 5,
     "metadata": {},
     "output_type": "execute_result"
    }
   ],
   "source": [
    "# For properly viewing the dataframe columns\n",
    "pd.set_option('display.max_colwidth', 100)\n",
    "\n",
    "df.head()"
   ]
  },
  {
   "cell_type": "code",
   "execution_count": 6,
   "metadata": {},
   "outputs": [
    {
     "name": "stdout",
     "output_type": "stream",
     "text": [
      "Shape: (15717, 7)\n"
     ]
    }
   ],
   "source": [
    "# The scraper has scraped URLs of the tweets and has not scraped URLs that are in the tweets. We will\n",
    "# need to drop the row URL and will have to find a way to find URLs from the text.\n",
    "\n",
    "df.drop(['URL'], axis='columns', inplace=True)\n",
    "\n",
    "print(\"Shape:\", df.shape)"
   ]
  },
  {
   "cell_type": "markdown",
   "metadata": {
    "id": "QleNjxBssHKM"
   },
   "source": [
    "## Filtering Data"
   ]
  },
  {
   "cell_type": "markdown",
   "metadata": {
    "id": "PSRiEFR6sS9a"
   },
   "source": [
    "### 1- Remove entries containing urls, they may be promotional tweets."
   ]
  },
  {
   "cell_type": "code",
   "execution_count": 7,
   "metadata": {
    "id": "qraCSg-irFy-"
   },
   "outputs": [
    {
     "name": "stdout",
     "output_type": "stream",
     "text": [
      "Shape: (6107, 7)\n"
     ]
    }
   ],
   "source": [
    "s = ['https:', 'Https:']\n",
    "df = df[~df.Text.str.contains('|'.join(s))]\n",
    "print(\"Shape:\", df.shape)"
   ]
  },
  {
   "cell_type": "markdown",
   "metadata": {
    "id": "BlgPkcW3xa2x"
   },
   "source": [
    "### 2- Remove entries with at mentions."
   ]
  },
  {
   "cell_type": "code",
   "execution_count": 8,
   "metadata": {
    "id": "87QtX_-KtQE3"
   },
   "outputs": [
    {
     "data": {
      "text/plain": [
       "(3854, 7)"
      ]
     },
     "execution_count": 8,
     "metadata": {},
     "output_type": "execute_result"
    }
   ],
   "source": [
    "df = df.loc[pd.isnull(df['Mention'])]\n",
    "df.shape"
   ]
  },
  {
   "cell_type": "code",
   "execution_count": 9,
   "metadata": {},
   "outputs": [
    {
     "data": {
      "text/html": [
       "<div>\n",
       "<style scoped>\n",
       "    .dataframe tbody tr th:only-of-type {\n",
       "        vertical-align: middle;\n",
       "    }\n",
       "\n",
       "    .dataframe tbody tr th {\n",
       "        vertical-align: top;\n",
       "    }\n",
       "\n",
       "    .dataframe thead th {\n",
       "        text-align: right;\n",
       "    }\n",
       "</style>\n",
       "<table border=\"1\" class=\"dataframe\">\n",
       "  <thead>\n",
       "    <tr style=\"text-align: right;\">\n",
       "      <th></th>\n",
       "      <th>Unnamed: 0</th>\n",
       "      <th>Datetime</th>\n",
       "      <th>Tweet Id</th>\n",
       "      <th>Username</th>\n",
       "      <th>Text</th>\n",
       "      <th>Mention</th>\n",
       "      <th>Hashtags</th>\n",
       "    </tr>\n",
       "  </thead>\n",
       "  <tbody>\n",
       "    <tr>\n",
       "      <th>13</th>\n",
       "      <td>13</td>\n",
       "      <td>2020-12-30 19:48:33+00:00</td>\n",
       "      <td>1344369806825451525</td>\n",
       "      <td>ChristyRoxy</td>\n",
       "      <td>À force de trop ouvrir son cœur au gens qui ne nous considèrent pas, dire toute ses pensées et s...</td>\n",
       "      <td>NaN</td>\n",
       "      <td>['BetrayalAct', 'betrayal', 'sadness']</td>\n",
       "    </tr>\n",
       "    <tr>\n",
       "      <th>23</th>\n",
       "      <td>23</td>\n",
       "      <td>2020-12-30 17:30:10+00:00</td>\n",
       "      <td>1344334980252655616</td>\n",
       "      <td>nobleregulus</td>\n",
       "      <td>not a single comment on my recent fic yet.. 😖😣😔 #sadness</td>\n",
       "      <td>NaN</td>\n",
       "      <td>['sadness']</td>\n",
       "    </tr>\n",
       "    <tr>\n",
       "      <th>24</th>\n",
       "      <td>24</td>\n",
       "      <td>2020-12-30 16:37:20+00:00</td>\n",
       "      <td>1344321684149391360</td>\n",
       "      <td>rex_seem</td>\n",
       "      <td>Se me quebró tan feo la pantalla del tel que no puedo ver sus tristes twits ..\\n#sad #sadtwits #...</td>\n",
       "      <td>NaN</td>\n",
       "      <td>['sad', 'sadtwits', 'sadness', 'enigma']</td>\n",
       "    </tr>\n",
       "    <tr>\n",
       "      <th>28</th>\n",
       "      <td>28</td>\n",
       "      <td>2020-12-30 15:28:41+00:00</td>\n",
       "      <td>1344304406536269825</td>\n",
       "      <td>mariasophiemegn</td>\n",
       "      <td>its so sad when u take down all the christmas decorations \\n#sad #sadness #Christmas #christmasi...</td>\n",
       "      <td>NaN</td>\n",
       "      <td>['sad', 'sadness', 'Christmas', 'christmasisover']</td>\n",
       "    </tr>\n",
       "    <tr>\n",
       "      <th>30</th>\n",
       "      <td>30</td>\n",
       "      <td>2020-12-30 14:05:12+00:00</td>\n",
       "      <td>1344283398177779714</td>\n",
       "      <td>ClosetsWidows</td>\n",
       "      <td>If love could have saved you, I know you would still be here with me.\\n#grief #sadness  #widowed...</td>\n",
       "      <td>NaN</td>\n",
       "      <td>['grief', 'sadness', 'widowed', 'widows', 'death', 'loss', 'bereaved', 'love', 'losingalovedone'...</td>\n",
       "    </tr>\n",
       "    <tr>\n",
       "      <th>33</th>\n",
       "      <td>33</td>\n",
       "      <td>2020-12-30 12:42:32+00:00</td>\n",
       "      <td>1344262594694172672</td>\n",
       "      <td>BookSnip</td>\n",
       "      <td>too much happiness always overflowed into tears of sorrow.\\n\\n-Amy Tan, The Hundred Secret Sense...</td>\n",
       "      <td>NaN</td>\n",
       "      <td>['happiness', 'sadness', 'crying']</td>\n",
       "    </tr>\n",
       "    <tr>\n",
       "      <th>36</th>\n",
       "      <td>36</td>\n",
       "      <td>2020-12-30 11:48:49+00:00</td>\n",
       "      <td>1344249078398345218</td>\n",
       "      <td>gotkashi</td>\n",
       "      <td>@erenyeagrr #PAIN #SADNESS #SORROW</td>\n",
       "      <td>NaN</td>\n",
       "      <td>['PAIN', 'SADNESS', 'SORROW']</td>\n",
       "    </tr>\n",
       "    <tr>\n",
       "      <th>44</th>\n",
       "      <td>44</td>\n",
       "      <td>2020-12-30 06:55:25+00:00</td>\n",
       "      <td>1344175239358341120</td>\n",
       "      <td>Isla_Plastic18</td>\n",
       "      <td>Sometimes it takes a little bit of sadness to know what happiness is. #Islabot #Sadness #Happiness</td>\n",
       "      <td>NaN</td>\n",
       "      <td>['Islabot', 'Sadness', 'Happiness']</td>\n",
       "    </tr>\n",
       "    <tr>\n",
       "      <th>46</th>\n",
       "      <td>46</td>\n",
       "      <td>2020-12-30 05:49:04+00:00</td>\n",
       "      <td>1344158544484941824</td>\n",
       "      <td>linzmwilliams</td>\n",
       "      <td>Sad that friendships are fractured because of the isolation of COVID. How do you help your child...</td>\n",
       "      <td>NaN</td>\n",
       "      <td>['friendship', 'sadness', 'COVID19', 'scared']</td>\n",
       "    </tr>\n",
       "    <tr>\n",
       "      <th>49</th>\n",
       "      <td>49</td>\n",
       "      <td>2020-12-30 04:55:55+00:00</td>\n",
       "      <td>1344145166165131266</td>\n",
       "      <td>ariadnedreams</td>\n",
       "      <td>I have an IV drip of sorrow \\nI keep thinking I’ve run out\\nBut my eyes keep refilling the drip\\...</td>\n",
       "      <td>NaN</td>\n",
       "      <td>['poem', 'sadness']</td>\n",
       "    </tr>\n",
       "    <tr>\n",
       "      <th>51</th>\n",
       "      <td>51</td>\n",
       "      <td>2020-12-30 04:40:52+00:00</td>\n",
       "      <td>1344141380235489287</td>\n",
       "      <td>KlevesAnna</td>\n",
       "      <td>Good night.....Good bye.....both start with good. Both can definitely make me cry. Both of which...</td>\n",
       "      <td>NaN</td>\n",
       "      <td>['sadness', 'healing', 'broken']</td>\n",
       "    </tr>\n",
       "    <tr>\n",
       "      <th>58</th>\n",
       "      <td>58</td>\n",
       "      <td>2020-12-30 03:10:41+00:00</td>\n",
       "      <td>1344118682415366144</td>\n",
       "      <td>letra_at_musika</td>\n",
       "      <td>One day before New Year's Eve, everything turned gray.\\n\\n#letraatmusika #music #poetry \\n#musik...</td>\n",
       "      <td>NaN</td>\n",
       "      <td>['letraatmusika', 'music', 'poetry', 'musika', 'letra', 'poem', 'songs', 'feelings', 'emotions',...</td>\n",
       "    </tr>\n",
       "    <tr>\n",
       "      <th>60</th>\n",
       "      <td>60</td>\n",
       "      <td>2020-12-30 02:51:00+00:00</td>\n",
       "      <td>1344113732792807424</td>\n",
       "      <td>CORTherapist</td>\n",
       "      <td>Healthy expressions of #sadness move the sadness through us, rather than leaving it stuck in our...</td>\n",
       "      <td>NaN</td>\n",
       "      <td>['sadness']</td>\n",
       "    </tr>\n",
       "    <tr>\n",
       "      <th>62</th>\n",
       "      <td>62</td>\n",
       "      <td>2020-12-30 02:30:22+00:00</td>\n",
       "      <td>1344108537199341568</td>\n",
       "      <td>aeleiene</td>\n",
       "      <td>Ver el último capítulo de la quinta temporada de #DrHouse me recuerda cuando llevamos a Mike al ...</td>\n",
       "      <td>NaN</td>\n",
       "      <td>['DrHouse', 'sadness']</td>\n",
       "    </tr>\n",
       "    <tr>\n",
       "      <th>65</th>\n",
       "      <td>65</td>\n",
       "      <td>2020-12-30 01:45:57+00:00</td>\n",
       "      <td>1344097361211998208</td>\n",
       "      <td>letra_at_musika</td>\n",
       "      <td>Kumusta ang umagang wala na siya? \\nPaano ba gumising ng masaya kahit mag isa? \\nKumusta ang pus...</td>\n",
       "      <td>NaN</td>\n",
       "      <td>['letraatmusika', 'music', 'poetry', 'musika', 'letra', 'poem', 'songs', 'feelings', 'emotions',...</td>\n",
       "    </tr>\n",
       "  </tbody>\n",
       "</table>\n",
       "</div>"
      ],
      "text/plain": [
       "    Unnamed: 0                   Datetime             Tweet Id  \\\n",
       "13          13  2020-12-30 19:48:33+00:00  1344369806825451525   \n",
       "23          23  2020-12-30 17:30:10+00:00  1344334980252655616   \n",
       "24          24  2020-12-30 16:37:20+00:00  1344321684149391360   \n",
       "28          28  2020-12-30 15:28:41+00:00  1344304406536269825   \n",
       "30          30  2020-12-30 14:05:12+00:00  1344283398177779714   \n",
       "33          33  2020-12-30 12:42:32+00:00  1344262594694172672   \n",
       "36          36  2020-12-30 11:48:49+00:00  1344249078398345218   \n",
       "44          44  2020-12-30 06:55:25+00:00  1344175239358341120   \n",
       "46          46  2020-12-30 05:49:04+00:00  1344158544484941824   \n",
       "49          49  2020-12-30 04:55:55+00:00  1344145166165131266   \n",
       "51          51  2020-12-30 04:40:52+00:00  1344141380235489287   \n",
       "58          58  2020-12-30 03:10:41+00:00  1344118682415366144   \n",
       "60          60  2020-12-30 02:51:00+00:00  1344113732792807424   \n",
       "62          62  2020-12-30 02:30:22+00:00  1344108537199341568   \n",
       "65          65  2020-12-30 01:45:57+00:00  1344097361211998208   \n",
       "\n",
       "           Username  \\\n",
       "13      ChristyRoxy   \n",
       "23     nobleregulus   \n",
       "24         rex_seem   \n",
       "28  mariasophiemegn   \n",
       "30    ClosetsWidows   \n",
       "33         BookSnip   \n",
       "36         gotkashi   \n",
       "44   Isla_Plastic18   \n",
       "46    linzmwilliams   \n",
       "49    ariadnedreams   \n",
       "51       KlevesAnna   \n",
       "58  letra_at_musika   \n",
       "60     CORTherapist   \n",
       "62         aeleiene   \n",
       "65  letra_at_musika   \n",
       "\n",
       "                                                                                                   Text  \\\n",
       "13  À force de trop ouvrir son cœur au gens qui ne nous considèrent pas, dire toute ses pensées et s...   \n",
       "23                                             not a single comment on my recent fic yet.. 😖😣😔 #sadness   \n",
       "24  Se me quebró tan feo la pantalla del tel que no puedo ver sus tristes twits ..\\n#sad #sadtwits #...   \n",
       "28  its so sad when u take down all the christmas decorations \\n#sad #sadness #Christmas #christmasi...   \n",
       "30  If love could have saved you, I know you would still be here with me.\\n#grief #sadness  #widowed...   \n",
       "33  too much happiness always overflowed into tears of sorrow.\\n\\n-Amy Tan, The Hundred Secret Sense...   \n",
       "36                                                                   @erenyeagrr #PAIN #SADNESS #SORROW   \n",
       "44   Sometimes it takes a little bit of sadness to know what happiness is. #Islabot #Sadness #Happiness   \n",
       "46  Sad that friendships are fractured because of the isolation of COVID. How do you help your child...   \n",
       "49  I have an IV drip of sorrow \\nI keep thinking I’ve run out\\nBut my eyes keep refilling the drip\\...   \n",
       "51  Good night.....Good bye.....both start with good. Both can definitely make me cry. Both of which...   \n",
       "58  One day before New Year's Eve, everything turned gray.\\n\\n#letraatmusika #music #poetry \\n#musik...   \n",
       "60  Healthy expressions of #sadness move the sadness through us, rather than leaving it stuck in our...   \n",
       "62  Ver el último capítulo de la quinta temporada de #DrHouse me recuerda cuando llevamos a Mike al ...   \n",
       "65  Kumusta ang umagang wala na siya? \\nPaano ba gumising ng masaya kahit mag isa? \\nKumusta ang pus...   \n",
       "\n",
       "   Mention  \\\n",
       "13     NaN   \n",
       "23     NaN   \n",
       "24     NaN   \n",
       "28     NaN   \n",
       "30     NaN   \n",
       "33     NaN   \n",
       "36     NaN   \n",
       "44     NaN   \n",
       "46     NaN   \n",
       "49     NaN   \n",
       "51     NaN   \n",
       "58     NaN   \n",
       "60     NaN   \n",
       "62     NaN   \n",
       "65     NaN   \n",
       "\n",
       "                                                                                               Hashtags  \n",
       "13                                                               ['BetrayalAct', 'betrayal', 'sadness']  \n",
       "23                                                                                          ['sadness']  \n",
       "24                                                             ['sad', 'sadtwits', 'sadness', 'enigma']  \n",
       "28                                                   ['sad', 'sadness', 'Christmas', 'christmasisover']  \n",
       "30  ['grief', 'sadness', 'widowed', 'widows', 'death', 'loss', 'bereaved', 'love', 'losingalovedone'...  \n",
       "33                                                                   ['happiness', 'sadness', 'crying']  \n",
       "36                                                                        ['PAIN', 'SADNESS', 'SORROW']  \n",
       "44                                                                  ['Islabot', 'Sadness', 'Happiness']  \n",
       "46                                                       ['friendship', 'sadness', 'COVID19', 'scared']  \n",
       "49                                                                                  ['poem', 'sadness']  \n",
       "51                                                                     ['sadness', 'healing', 'broken']  \n",
       "58  ['letraatmusika', 'music', 'poetry', 'musika', 'letra', 'poem', 'songs', 'feelings', 'emotions',...  \n",
       "60                                                                                          ['sadness']  \n",
       "62                                                                               ['DrHouse', 'sadness']  \n",
       "65  ['letraatmusika', 'music', 'poetry', 'musika', 'letra', 'poem', 'songs', 'feelings', 'emotions',...  "
      ]
     },
     "execution_count": 9,
     "metadata": {},
     "output_type": "execute_result"
    }
   ],
   "source": [
    "df.head(15)"
   ]
  },
  {
   "cell_type": "markdown",
   "metadata": {
    "id": "542kLO3ZzFUj"
   },
   "source": [
    "## Make tweet column hastag free."
   ]
  },
  {
   "cell_type": "code",
   "execution_count": 10,
   "metadata": {
    "id": "W59Sw2MHtQCm"
   },
   "outputs": [],
   "source": [
    "df[\"Text\"] = df[\"Text\"].apply(lambda x: re.sub(r'#\\w+', '', x))"
   ]
  },
  {
   "cell_type": "code",
   "execution_count": 11,
   "metadata": {
    "id": "FCo8YIVZtP_p",
    "scrolled": true
   },
   "outputs": [
    {
     "name": "stdout",
     "output_type": "stream",
     "text": [
      "                                                                                                   Text  \\\n",
      "13  À force de trop ouvrir son cœur au gens qui ne nous considèrent pas, dire toute ses pensées et s...   \n",
      "23                                                     not a single comment on my recent fic yet.. 😖😣😔    \n",
      "24                  Se me quebró tan feo la pantalla del tel que no puedo ver sus tristes twits ..\\n      \n",
      "28                                      its so sad when u take down all the christmas decorations \\n      \n",
      "30                    If love could have saved you, I know you would still be here with me.\\n             \n",
      "\n",
      "    Depression  \n",
      "13           1  \n",
      "23           1  \n",
      "24           1  \n",
      "28           1  \n",
      "30           1  \n"
     ]
    }
   ],
   "source": [
    "df[\"Depression\"] = 1\n",
    "df.drop(['Tweet Id', 'Mention', 'Hashtags', 'Username', 'Datetime', 'Unnamed: 0'],\n",
    "        axis='columns', inplace=True)\n",
    "print(df.head(5))"
   ]
  },
  {
   "cell_type": "code",
   "execution_count": 12,
   "metadata": {
    "id": "1aTMd8ZLtP5i"
   },
   "outputs": [],
   "source": [
    "df.to_csv(\"Depressed.csv\")"
   ]
  },
  {
   "cell_type": "markdown",
   "metadata": {
    "id": "LcuojlOQB4Ff"
   },
   "source": [
    "# Cleaning Non-Depression Data"
   ]
  },
  {
   "cell_type": "markdown",
   "metadata": {
    "id": "IZNcS3i5CmbR"
   },
   "source": [
    "## Importing Extracted Data "
   ]
  },
  {
   "cell_type": "code",
   "execution_count": 13,
   "metadata": {
    "id": "_3mcfen0B-GC"
   },
   "outputs": [],
   "source": [
    "df_1 = pd.read_csv(\"non_dep_happy.csv\")\n",
    "df_2 = pd.read_csv(\"non_dep_selflove.csv\")\n",
    "df_3 = pd.read_csv(\"non_dep_positivevibes.csv\")\n",
    "df_4 = pd.read_csv(\"non_dep_inspiration.csv\")\n",
    "\n",
    "\n",
    "# Combining Datasets.\n",
    "df_non = pd.concat([df_1, df_2, df_3, df_4],ignore_index=True,axis='rows')"
   ]
  },
  {
   "cell_type": "code",
   "execution_count": 14,
   "metadata": {
    "id": "i096A9i_CyF8"
   },
   "outputs": [
    {
     "name": "stdout",
     "output_type": "stream",
     "text": [
      "Shape: (16004, 8)\n",
      "Unique tweets: 15143\n"
     ]
    }
   ],
   "source": [
    "print(\"Shape:\", df_non.shape)\n",
    "\n",
    "# For observing duplicate tweets we are using 'ID'.\n",
    "print(\"Unique tweets:\", len(df_non['Tweet Id'].value_counts()))"
   ]
  },
  {
   "cell_type": "code",
   "execution_count": 15,
   "metadata": {
    "id": "58F_GTXCCyGH"
   },
   "outputs": [
    {
     "name": "stdout",
     "output_type": "stream",
     "text": [
      "Shape: (15143, 8)\n"
     ]
    }
   ],
   "source": [
    "# Dropping duplicate tweets using \"ID\" column.\n",
    "\n",
    "df_non = df_non.drop_duplicates(subset =[\"Tweet Id\"])\n",
    "\n",
    "print(\"Shape:\",df_non.shape)"
   ]
  },
  {
   "cell_type": "code",
   "execution_count": 16,
   "metadata": {
    "id": "6GWDqNqfCyGI",
    "scrolled": true
   },
   "outputs": [
    {
     "name": "stdout",
     "output_type": "stream",
     "text": [
      "Shape: (15143, 8)\n"
     ]
    },
    {
     "data": {
      "text/html": [
       "<div>\n",
       "<style scoped>\n",
       "    .dataframe tbody tr th:only-of-type {\n",
       "        vertical-align: middle;\n",
       "    }\n",
       "\n",
       "    .dataframe tbody tr th {\n",
       "        vertical-align: top;\n",
       "    }\n",
       "\n",
       "    .dataframe thead th {\n",
       "        text-align: right;\n",
       "    }\n",
       "</style>\n",
       "<table border=\"1\" class=\"dataframe\">\n",
       "  <thead>\n",
       "    <tr style=\"text-align: right;\">\n",
       "      <th></th>\n",
       "      <th>Unnamed: 0</th>\n",
       "      <th>Datetime</th>\n",
       "      <th>Tweet Id</th>\n",
       "      <th>Username</th>\n",
       "      <th>Text</th>\n",
       "      <th>URL</th>\n",
       "      <th>Mention</th>\n",
       "      <th>Hashtags</th>\n",
       "    </tr>\n",
       "  </thead>\n",
       "  <tbody>\n",
       "    <tr>\n",
       "      <th>0</th>\n",
       "      <td>0</td>\n",
       "      <td>2020-12-30 23:59:58+00:00</td>\n",
       "      <td>1344433078320521217</td>\n",
       "      <td>txtraveltegal</td>\n",
       "      <td>#love  #TFLers #instagood #tweegram #photooftheday #me #instamood #cute #iphonesia #summer #tbt ...</td>\n",
       "      <td>https://twitter.com/txtraveltegal/status/1344433078320521217</td>\n",
       "      <td>NaN</td>\n",
       "      <td>['love', 'TFLers', 'instagood', 'tweegram', 'photooftheday', 'me', 'instamood', 'cute', 'iphones...</td>\n",
       "    </tr>\n",
       "    <tr>\n",
       "      <th>1</th>\n",
       "      <td>1</td>\n",
       "      <td>2020-12-30 23:59:31+00:00</td>\n",
       "      <td>1344432963954438146</td>\n",
       "      <td>pr_deciel</td>\n",
       "      <td>あっという間に、今年最後の日＝大晦日となりました\\n\\nやり残したことはありませんか？\\n\\nデシェルの「福袋」買いましたか？\\n\\nたいへん、夢に出ちゃいますよｗ\\n\\n年末年始だけの数量限...</td>\n",
       "      <td>https://twitter.com/pr_deciel/status/1344432963954438146</td>\n",
       "      <td>NaN</td>\n",
       "      <td>['福袋', 'HAPPY', '限定', '2021年', '新春', '化粧品', '夢に出る', 'やり残し', '数量限定']</td>\n",
       "    </tr>\n",
       "    <tr>\n",
       "      <th>2</th>\n",
       "      <td>2</td>\n",
       "      <td>2020-12-30 23:59:13+00:00</td>\n",
       "      <td>1344432887035256834</td>\n",
       "      <td>braintickler_</td>\n",
       "      <td>JOKE OF THE DAY : Whoever invented the knock-knock joke should get a no bell prize. #humor #meme...</td>\n",
       "      <td>https://twitter.com/braintickler_/status/1344432887035256834</td>\n",
       "      <td>NaN</td>\n",
       "      <td>['humor', 'memesdaily', 'rofl', 'jokeoftheday', 'funny', 'lol', 'lmao', 'happy', 'followme', 'lo...</td>\n",
       "    </tr>\n",
       "    <tr>\n",
       "      <th>3</th>\n",
       "      <td>3</td>\n",
       "      <td>2020-12-30 23:59:07+00:00</td>\n",
       "      <td>1344432862381051904</td>\n",
       "      <td>PandaMartini</td>\n",
       "      <td>Dear writing community, I want a #penpal. I have #stickers, a #cricut, and lots of #stationary. ...</td>\n",
       "      <td>https://twitter.com/PandaMartini/status/1344432862381051904</td>\n",
       "      <td>NaN</td>\n",
       "      <td>['penpal', 'stickers', 'cricut', 'stationary', 'cute', 'gifts', 'notgoingout', 'Lonely', 'spread...</td>\n",
       "    </tr>\n",
       "    <tr>\n",
       "      <th>4</th>\n",
       "      <td>4</td>\n",
       "      <td>2020-12-30 23:57:15+00:00</td>\n",
       "      <td>1344432391683715072</td>\n",
       "      <td>Rhaulli_Panda</td>\n",
       "      <td>#merrychristmas🎄 #merryxmas #happy #newyear #happynewyear #happynewyear2021 #2021 #2021春婚 #dicie...</td>\n",
       "      <td>https://twitter.com/Rhaulli_Panda/status/1344432391683715072</td>\n",
       "      <td>NaN</td>\n",
       "      <td>['merrychristmas', 'merryxmas', 'happy', 'newyear', 'happynewyear', 'happynewyear2021', '2021春婚'...</td>\n",
       "    </tr>\n",
       "  </tbody>\n",
       "</table>\n",
       "</div>"
      ],
      "text/plain": [
       "   Unnamed: 0                   Datetime             Tweet Id       Username  \\\n",
       "0           0  2020-12-30 23:59:58+00:00  1344433078320521217  txtraveltegal   \n",
       "1           1  2020-12-30 23:59:31+00:00  1344432963954438146      pr_deciel   \n",
       "2           2  2020-12-30 23:59:13+00:00  1344432887035256834  braintickler_   \n",
       "3           3  2020-12-30 23:59:07+00:00  1344432862381051904   PandaMartini   \n",
       "4           4  2020-12-30 23:57:15+00:00  1344432391683715072  Rhaulli_Panda   \n",
       "\n",
       "                                                                                                  Text  \\\n",
       "0  #love  #TFLers #instagood #tweegram #photooftheday #me #instamood #cute #iphonesia #summer #tbt ...   \n",
       "1  あっという間に、今年最後の日＝大晦日となりました\\n\\nやり残したことはありませんか？\\n\\nデシェルの「福袋」買いましたか？\\n\\nたいへん、夢に出ちゃいますよｗ\\n\\n年末年始だけの数量限...   \n",
       "2  JOKE OF THE DAY : Whoever invented the knock-knock joke should get a no bell prize. #humor #meme...   \n",
       "3  Dear writing community, I want a #penpal. I have #stickers, a #cricut, and lots of #stationary. ...   \n",
       "4  #merrychristmas🎄 #merryxmas #happy #newyear #happynewyear #happynewyear2021 #2021 #2021春婚 #dicie...   \n",
       "\n",
       "                                                            URL Mention  \\\n",
       "0  https://twitter.com/txtraveltegal/status/1344433078320521217     NaN   \n",
       "1      https://twitter.com/pr_deciel/status/1344432963954438146     NaN   \n",
       "2  https://twitter.com/braintickler_/status/1344432887035256834     NaN   \n",
       "3   https://twitter.com/PandaMartini/status/1344432862381051904     NaN   \n",
       "4  https://twitter.com/Rhaulli_Panda/status/1344432391683715072     NaN   \n",
       "\n",
       "                                                                                              Hashtags  \n",
       "0  ['love', 'TFLers', 'instagood', 'tweegram', 'photooftheday', 'me', 'instamood', 'cute', 'iphones...  \n",
       "1                                  ['福袋', 'HAPPY', '限定', '2021年', '新春', '化粧品', '夢に出る', 'やり残し', '数量限定']  \n",
       "2  ['humor', 'memesdaily', 'rofl', 'jokeoftheday', 'funny', 'lol', 'lmao', 'happy', 'followme', 'lo...  \n",
       "3  ['penpal', 'stickers', 'cricut', 'stationary', 'cute', 'gifts', 'notgoingout', 'Lonely', 'spread...  \n",
       "4  ['merrychristmas', 'merryxmas', 'happy', 'newyear', 'happynewyear', 'happynewyear2021', '2021春婚'...  "
      ]
     },
     "execution_count": 16,
     "metadata": {},
     "output_type": "execute_result"
    }
   ],
   "source": [
    "# For properly viewing the dataframe columns\n",
    "\n",
    "pd.set_option('display.max_colwidth', 100)\n",
    "print(\"Shape:\", df_non.shape)\n",
    "df_non.head()"
   ]
  },
  {
   "cell_type": "code",
   "execution_count": 17,
   "metadata": {},
   "outputs": [
    {
     "name": "stdout",
     "output_type": "stream",
     "text": [
      "Shape: (15143, 7)\n"
     ]
    }
   ],
   "source": [
    "df_non.drop(['URL'], axis='columns', inplace=True)\n",
    "\n",
    "print(\"Shape:\", df_non.shape)"
   ]
  },
  {
   "cell_type": "markdown",
   "metadata": {
    "id": "w3vEb4vpCyGI"
   },
   "source": [
    "## Filtering Data"
   ]
  },
  {
   "cell_type": "markdown",
   "metadata": {
    "id": "v33VSUVNCyGJ"
   },
   "source": [
    "### 1- Remove entries containing urls, they may be promotional tweets."
   ]
  },
  {
   "cell_type": "code",
   "execution_count": 18,
   "metadata": {
    "id": "e0dhewzdCyGK"
   },
   "outputs": [
    {
     "name": "stdout",
     "output_type": "stream",
     "text": [
      "Shape: (3501, 7)\n"
     ]
    }
   ],
   "source": [
    "df_non = df_non[~df_non.Text.str.contains('|'.join(s))]\n",
    "print(\"Shape:\", df_non.shape)"
   ]
  },
  {
   "cell_type": "markdown",
   "metadata": {
    "id": "hPBoyjVwCyGO"
   },
   "source": [
    "### 2- Remove entries with at mentions."
   ]
  },
  {
   "cell_type": "code",
   "execution_count": 19,
   "metadata": {
    "id": "f5HjU_9MCyGO"
   },
   "outputs": [
    {
     "data": {
      "text/plain": [
       "(2789, 7)"
      ]
     },
     "execution_count": 19,
     "metadata": {},
     "output_type": "execute_result"
    }
   ],
   "source": [
    "df_non = df_non.loc[pd.isnull(df_non['Mention'])]\n",
    "df_non.shape"
   ]
  },
  {
   "cell_type": "code",
   "execution_count": 20,
   "metadata": {},
   "outputs": [
    {
     "data": {
      "text/html": [
       "<div>\n",
       "<style scoped>\n",
       "    .dataframe tbody tr th:only-of-type {\n",
       "        vertical-align: middle;\n",
       "    }\n",
       "\n",
       "    .dataframe tbody tr th {\n",
       "        vertical-align: top;\n",
       "    }\n",
       "\n",
       "    .dataframe thead th {\n",
       "        text-align: right;\n",
       "    }\n",
       "</style>\n",
       "<table border=\"1\" class=\"dataframe\">\n",
       "  <thead>\n",
       "    <tr style=\"text-align: right;\">\n",
       "      <th></th>\n",
       "      <th>Unnamed: 0</th>\n",
       "      <th>Datetime</th>\n",
       "      <th>Tweet Id</th>\n",
       "      <th>Username</th>\n",
       "      <th>Text</th>\n",
       "      <th>Mention</th>\n",
       "      <th>Hashtags</th>\n",
       "    </tr>\n",
       "  </thead>\n",
       "  <tbody>\n",
       "    <tr>\n",
       "      <th>2</th>\n",
       "      <td>2</td>\n",
       "      <td>2020-12-30 23:59:13+00:00</td>\n",
       "      <td>1344432887035256834</td>\n",
       "      <td>braintickler_</td>\n",
       "      <td>JOKE OF THE DAY : Whoever invented the knock-knock joke should get a no bell prize. #humor #meme...</td>\n",
       "      <td>NaN</td>\n",
       "      <td>['humor', 'memesdaily', 'rofl', 'jokeoftheday', 'funny', 'lol', 'lmao', 'happy', 'followme', 'lo...</td>\n",
       "    </tr>\n",
       "    <tr>\n",
       "      <th>3</th>\n",
       "      <td>3</td>\n",
       "      <td>2020-12-30 23:59:07+00:00</td>\n",
       "      <td>1344432862381051904</td>\n",
       "      <td>PandaMartini</td>\n",
       "      <td>Dear writing community, I want a #penpal. I have #stickers, a #cricut, and lots of #stationary. ...</td>\n",
       "      <td>NaN</td>\n",
       "      <td>['penpal', 'stickers', 'cricut', 'stationary', 'cute', 'gifts', 'notgoingout', 'Lonely', 'spread...</td>\n",
       "    </tr>\n",
       "    <tr>\n",
       "      <th>11</th>\n",
       "      <td>11</td>\n",
       "      <td>2020-12-30 23:50:02+00:00</td>\n",
       "      <td>1344430578674798594</td>\n",
       "      <td>ayatan0305</td>\n",
       "      <td>2021年楽しみすぎるな〜\\n色んなことが起きて\\n色んな感情にもなるし\\n色んな人と出会うでしょう☺️\\n\\n自分を大切に.\\n自分を信じて.\\n自分に喜ぶ事をやろうね❤️\\nフリーダムにシ...</td>\n",
       "      <td>NaN</td>\n",
       "      <td>['yoga', 'yogalife', 'happy']</td>\n",
       "    </tr>\n",
       "    <tr>\n",
       "      <th>24</th>\n",
       "      <td>24</td>\n",
       "      <td>2020-12-30 23:42:58+00:00</td>\n",
       "      <td>1344428798624878592</td>\n",
       "      <td>ahmedsamiirr1</td>\n",
       "      <td>#Happy _new _year  ♥♥</td>\n",
       "      <td>NaN</td>\n",
       "      <td>['Happy']</td>\n",
       "    </tr>\n",
       "    <tr>\n",
       "      <th>27</th>\n",
       "      <td>27</td>\n",
       "      <td>2020-12-30 23:41:45+00:00</td>\n",
       "      <td>1344428491647889417</td>\n",
       "      <td>MasugzyoN</td>\n",
       "      <td>Some of us had to make it on our own #Happy New year Eve to all of us</td>\n",
       "      <td>NaN</td>\n",
       "      <td>['Happy']</td>\n",
       "    </tr>\n",
       "    <tr>\n",
       "      <th>34</th>\n",
       "      <td>34</td>\n",
       "      <td>2020-12-30 23:32:33+00:00</td>\n",
       "      <td>1344426176408932354</td>\n",
       "      <td>baalians</td>\n",
       "      <td>#happy</td>\n",
       "      <td>NaN</td>\n",
       "      <td>['happy']</td>\n",
       "    </tr>\n",
       "  </tbody>\n",
       "</table>\n",
       "</div>"
      ],
      "text/plain": [
       "    Unnamed: 0                   Datetime             Tweet Id       Username  \\\n",
       "2            2  2020-12-30 23:59:13+00:00  1344432887035256834  braintickler_   \n",
       "3            3  2020-12-30 23:59:07+00:00  1344432862381051904   PandaMartini   \n",
       "11          11  2020-12-30 23:50:02+00:00  1344430578674798594     ayatan0305   \n",
       "24          24  2020-12-30 23:42:58+00:00  1344428798624878592  ahmedsamiirr1   \n",
       "27          27  2020-12-30 23:41:45+00:00  1344428491647889417      MasugzyoN   \n",
       "34          34  2020-12-30 23:32:33+00:00  1344426176408932354       baalians   \n",
       "\n",
       "                                                                                                   Text  \\\n",
       "2   JOKE OF THE DAY : Whoever invented the knock-knock joke should get a no bell prize. #humor #meme...   \n",
       "3   Dear writing community, I want a #penpal. I have #stickers, a #cricut, and lots of #stationary. ...   \n",
       "11  2021年楽しみすぎるな〜\\n色んなことが起きて\\n色んな感情にもなるし\\n色んな人と出会うでしょう☺️\\n\\n自分を大切に.\\n自分を信じて.\\n自分に喜ぶ事をやろうね❤️\\nフリーダムにシ...   \n",
       "24                                                                                #Happy _new _year  ♥♥   \n",
       "27                                Some of us had to make it on our own #Happy New year Eve to all of us   \n",
       "34                                                                                               #happy   \n",
       "\n",
       "   Mention  \\\n",
       "2      NaN   \n",
       "3      NaN   \n",
       "11     NaN   \n",
       "24     NaN   \n",
       "27     NaN   \n",
       "34     NaN   \n",
       "\n",
       "                                                                                               Hashtags  \n",
       "2   ['humor', 'memesdaily', 'rofl', 'jokeoftheday', 'funny', 'lol', 'lmao', 'happy', 'followme', 'lo...  \n",
       "3   ['penpal', 'stickers', 'cricut', 'stationary', 'cute', 'gifts', 'notgoingout', 'Lonely', 'spread...  \n",
       "11                                                                        ['yoga', 'yogalife', 'happy']  \n",
       "24                                                                                            ['Happy']  \n",
       "27                                                                                            ['Happy']  \n",
       "34                                                                                            ['happy']  "
      ]
     },
     "execution_count": 20,
     "metadata": {},
     "output_type": "execute_result"
    }
   ],
   "source": [
    "df_non.head(6)"
   ]
  },
  {
   "cell_type": "markdown",
   "metadata": {
    "id": "u6kCkRU5CyGO"
   },
   "source": [
    "## Make tweet column hastag free."
   ]
  },
  {
   "cell_type": "code",
   "execution_count": 21,
   "metadata": {
    "id": "W59Sw2MHtQCm"
   },
   "outputs": [],
   "source": [
    "df_non[\"Text\"] = df_non[\"Text\"].apply(lambda x: re.sub(r'#\\w+', '', x))"
   ]
  },
  {
   "cell_type": "code",
   "execution_count": 22,
   "metadata": {
    "id": "FCo8YIVZtP_p"
   },
   "outputs": [
    {
     "data": {
      "text/html": [
       "<div>\n",
       "<style scoped>\n",
       "    .dataframe tbody tr th:only-of-type {\n",
       "        vertical-align: middle;\n",
       "    }\n",
       "\n",
       "    .dataframe tbody tr th {\n",
       "        vertical-align: top;\n",
       "    }\n",
       "\n",
       "    .dataframe thead th {\n",
       "        text-align: right;\n",
       "    }\n",
       "</style>\n",
       "<table border=\"1\" class=\"dataframe\">\n",
       "  <thead>\n",
       "    <tr style=\"text-align: right;\">\n",
       "      <th></th>\n",
       "      <th>Text</th>\n",
       "      <th>Depression</th>\n",
       "    </tr>\n",
       "  </thead>\n",
       "  <tbody>\n",
       "    <tr>\n",
       "      <th>2</th>\n",
       "      <td>JOKE OF THE DAY : Whoever invented the knock-knock joke should get a no bell prize.</td>\n",
       "      <td>0</td>\n",
       "    </tr>\n",
       "    <tr>\n",
       "      <th>3</th>\n",
       "      <td>Dear writing community, I want a . I have , a , and lots of . DM me? I also will send   🥰 Over 1...</td>\n",
       "      <td>0</td>\n",
       "    </tr>\n",
       "    <tr>\n",
       "      <th>11</th>\n",
       "      <td>2021年楽しみすぎるな〜\\n色んなことが起きて\\n色んな感情にもなるし\\n色んな人と出会うでしょう☺️\\n\\n自分を大切に.\\n自分を信じて.\\n自分に喜ぶ事をやろうね❤️\\nフリーダムにシ...</td>\n",
       "      <td>0</td>\n",
       "    </tr>\n",
       "    <tr>\n",
       "      <th>24</th>\n",
       "      <td>_new _year  ♥♥</td>\n",
       "      <td>0</td>\n",
       "    </tr>\n",
       "    <tr>\n",
       "      <th>27</th>\n",
       "      <td>Some of us had to make it on our own  New year Eve to all of us</td>\n",
       "      <td>0</td>\n",
       "    </tr>\n",
       "  </tbody>\n",
       "</table>\n",
       "</div>"
      ],
      "text/plain": [
       "                                                                                                   Text  \\\n",
       "2       JOKE OF THE DAY : Whoever invented the knock-knock joke should get a no bell prize.               \n",
       "3   Dear writing community, I want a . I have , a , and lots of . DM me? I also will send   🥰 Over 1...   \n",
       "11  2021年楽しみすぎるな〜\\n色んなことが起きて\\n色んな感情にもなるし\\n色んな人と出会うでしょう☺️\\n\\n自分を大切に.\\n自分を信じて.\\n自分に喜ぶ事をやろうね❤️\\nフリーダムにシ...   \n",
       "24                                                                                       _new _year  ♥♥   \n",
       "27                                      Some of us had to make it on our own  New year Eve to all of us   \n",
       "\n",
       "    Depression  \n",
       "2            0  \n",
       "3            0  \n",
       "11           0  \n",
       "24           0  \n",
       "27           0  "
      ]
     },
     "execution_count": 22,
     "metadata": {},
     "output_type": "execute_result"
    }
   ],
   "source": [
    "df_non[\"Depression\"] = 0\n",
    "df_non.drop(['Tweet Id', 'Mention', 'Hashtags', 'Username', 'Datetime', 'Unnamed: 0'],\n",
    "           axis='columns', inplace=True)\n",
    "df_non.head(5)"
   ]
  },
  {
   "cell_type": "code",
   "execution_count": 23,
   "metadata": {
    "id": "1aTMd8ZLtP5i"
   },
   "outputs": [],
   "source": [
    "df_non.to_csv(\"NotDepressed.csv\")"
   ]
  }
 ],
 "metadata": {
  "colab": {
   "authorship_tag": "ABX9TyNGckFKyWcDPEniN5flisU+",
   "collapsed_sections": [
    "IYQrvmMJ6EI4"
   ],
   "name": "Filtering / Cleaning.ipynb",
   "provenance": []
  },
  "kernelspec": {
   "display_name": "Python 3",
   "language": "python",
   "name": "python3"
  },
  "language_info": {
   "codemirror_mode": {
    "name": "ipython",
    "version": 3
   },
   "file_extension": ".py",
   "mimetype": "text/x-python",
   "name": "python",
   "nbconvert_exporter": "python",
   "pygments_lexer": "ipython3",
   "version": "3.8.1"
  }
 },
 "nbformat": 4,
 "nbformat_minor": 1
}
